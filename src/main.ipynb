{
 "cells": [
  {
   "cell_type": "code",
   "execution_count": 1,
   "metadata": {},
   "outputs": [
    {
     "name": "stdout",
     "output_type": "stream",
     "text": [
      "Section 1/1\n",
      "Version 5/5\r"
     ]
    }
   ],
   "source": [
    "from functions.willV2.handler import main\n",
    "from data.draft import text\n",
    "\n",
    "main(text, 5)"
   ]
  }
 ],
 "metadata": {
  "kernelspec": {
   "display_name": "article-gpt",
   "language": "python",
   "name": "python3"
  },
  "language_info": {
   "codemirror_mode": {
    "name": "ipython",
    "version": 3
   },
   "file_extension": ".py",
   "mimetype": "text/x-python",
   "name": "python",
   "nbconvert_exporter": "python",
   "pygments_lexer": "ipython3",
   "version": "3.11.7"
  }
 },
 "nbformat": 4,
 "nbformat_minor": 2
}
